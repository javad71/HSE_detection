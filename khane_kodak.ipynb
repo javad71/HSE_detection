{
  "nbformat": 4,
  "nbformat_minor": 0,
  "metadata": {
    "colab": {
      "provenance": [],
      "gpuType": "T4",
      "authorship_tag": "ABX9TyOTTIuav8WEZQscruKvQykM",
      "include_colab_link": true
    },
    "kernelspec": {
      "name": "python3",
      "display_name": "Python 3"
    },
    "language_info": {
      "name": "python"
    },
    "accelerator": "GPU"
  },
  "cells": [
    {
      "cell_type": "markdown",
      "metadata": {
        "id": "view-in-github",
        "colab_type": "text"
      },
      "source": [
        "<a href=\"https://colab.research.google.com/github/javad71/HSE_detection/blob/main/khane_kodak.ipynb\" target=\"_parent\"><img src=\"https://colab.research.google.com/assets/colab-badge.svg\" alt=\"Open In Colab\"/></a>"
      ]
    },
    {
      "cell_type": "markdown",
      "source": [
        "Install requirements"
      ],
      "metadata": {
        "id": "pgjgjiR_PncF"
      }
    },
    {
      "cell_type": "code",
      "execution_count": null,
      "metadata": {
        "id": "dzMr9-I5tFr6"
      },
      "outputs": [],
      "source": [
        "!pip install ultralytics\n",
        "\n",
        "from IPython import display\n",
        "display.clear_output()\n",
        "\n",
        "import ultralytics\n",
        "ultralytics.checks()"
      ]
    },
    {
      "cell_type": "markdown",
      "source": [
        "Add dataset from roboflow"
      ],
      "metadata": {
        "id": "HobQAf_ePrgv"
      }
    },
    {
      "cell_type": "code",
      "source": [
        "import os\n",
        "HOME = os.getcwd()\n",
        "\n",
        "!mkdir {HOME}/datasets\n",
        "%cd {HOME}/datasets\n",
        "\n",
        "!pip install roboflow\n",
        "\n",
        "from roboflow import Roboflow\n",
        "rf = Roboflow(api_key=\"GLtmFXRYELDlYMNZFRPj\")\n",
        "project = rf.workspace(\"javad-rezaei\").project(\"calling-8qmgm\")\n",
        "version = project.version(1)\n",
        "dataset = version.download(\"yolov11\")\n"
      ],
      "metadata": {
        "id": "jpVgGXl6tOSE"
      },
      "execution_count": null,
      "outputs": []
    },
    {
      "cell_type": "markdown",
      "source": [
        "Start training process"
      ],
      "metadata": {
        "id": "vmPsCN4OP0GP"
      }
    },
    {
      "cell_type": "code",
      "source": [
        "%cd {HOME}\n",
        "\n",
        "!yolo task=detect mode=train epochs=80 batch=16 plots=True \\\n",
        "model=yolo11m.pt \\\n",
        "data={dataset.location}/data.yaml"
      ],
      "metadata": {
        "id": "GENFeelttUXz"
      },
      "execution_count": null,
      "outputs": []
    },
    {
      "cell_type": "markdown",
      "source": [
        "Test a trained model on a video (please upload video in content directory)"
      ],
      "metadata": {
        "id": "bntjT0BoP6Yv"
      }
    },
    {
      "cell_type": "code",
      "source": [
        "from ultralytics import YOLO\n",
        "\n",
        "# Load a COCO-pretrained YOLO11n model\n",
        "model = YOLO(\"/content/runs/detect/train/weights/best.pt\")\n",
        "\n",
        "# Run inference with the YOLO11n model on the 'bus.jpg' image\n",
        "results = model(\"/content/vid.mp4\", save=True, conf=0.6)"
      ],
      "metadata": {
        "id": "7mNuAkrGLbf3"
      },
      "execution_count": null,
      "outputs": []
    }
  ]
}